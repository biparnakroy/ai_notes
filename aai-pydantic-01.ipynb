{
 "cells": [
  {
   "cell_type": "markdown",
   "id": "b439ed65",
   "metadata": {
    "papermill": {
     "duration": 0.005233,
     "end_time": "2025-07-17T20:36:47.102812",
     "exception": false,
     "start_time": "2025-07-17T20:36:47.097579",
     "status": "completed"
    },
    "tags": []
   },
   "source": [
    "# Agentic AI : Pydantic Models\n",
    "\n",
    "Pydantic models are the foundation of data validation in Python. They use Python type annotations to define the structure and validate data at runtime. Here's a detailed exploration of basic model creation with several examples."
   ]
  },
  {
   "cell_type": "code",
   "execution_count": 1,
   "id": "7c749355",
   "metadata": {
    "execution": {
     "iopub.execute_input": "2025-07-17T20:36:47.112916Z",
     "iopub.status.busy": "2025-07-17T20:36:47.112543Z",
     "iopub.status.idle": "2025-07-17T20:36:52.519460Z",
     "shell.execute_reply": "2025-07-17T20:36:52.517844Z"
    },
    "papermill": {
     "duration": 5.414419,
     "end_time": "2025-07-17T20:36:52.521699",
     "exception": false,
     "start_time": "2025-07-17T20:36:47.107280",
     "status": "completed"
    },
    "tags": []
   },
   "outputs": [
    {
     "name": "stdout",
     "output_type": "stream",
     "text": [
      "Requirement already satisfied: pydantic in /usr/local/lib/python3.11/dist-packages (2.11.7)\r\n",
      "Requirement already satisfied: annotated-types>=0.6.0 in /usr/local/lib/python3.11/dist-packages (from pydantic) (0.7.0)\r\n",
      "Requirement already satisfied: pydantic-core==2.33.2 in /usr/local/lib/python3.11/dist-packages (from pydantic) (2.33.2)\r\n",
      "Requirement already satisfied: typing-extensions>=4.12.2 in /usr/local/lib/python3.11/dist-packages (from pydantic) (4.14.0)\r\n",
      "Requirement already satisfied: typing-inspection>=0.4.0 in /usr/local/lib/python3.11/dist-packages (from pydantic) (0.4.1)\r\n"
     ]
    }
   ],
   "source": [
    "!pip install pydantic"
   ]
  },
  {
   "cell_type": "markdown",
   "id": "d9b3da60",
   "metadata": {
    "papermill": {
     "duration": 0.004893,
     "end_time": "2025-07-17T20:36:52.531910",
     "exception": false,
     "start_time": "2025-07-17T20:36:52.527017",
     "status": "completed"
    },
    "tags": []
   },
   "source": [
    "### Making Models Using Pydantic BaseModel (Validation included)"
   ]
  },
  {
   "cell_type": "code",
   "execution_count": 2,
   "id": "f0940e6c",
   "metadata": {
    "execution": {
     "iopub.execute_input": "2025-07-17T20:36:52.543658Z",
     "iopub.status.busy": "2025-07-17T20:36:52.543337Z",
     "iopub.status.idle": "2025-07-17T20:36:52.829840Z",
     "shell.execute_reply": "2025-07-17T20:36:52.828304Z"
    },
    "papermill": {
     "duration": 0.293938,
     "end_time": "2025-07-17T20:36:52.831718",
     "exception": false,
     "start_time": "2025-07-17T20:36:52.537780",
     "status": "completed"
    },
    "tags": []
   },
   "outputs": [],
   "source": [
    "from pydantic import BaseModel, ValidationError"
   ]
  },
  {
   "cell_type": "code",
   "execution_count": 3,
   "id": "73c84c7a",
   "metadata": {
    "execution": {
     "iopub.execute_input": "2025-07-17T20:36:52.842258Z",
     "iopub.status.busy": "2025-07-17T20:36:52.841654Z",
     "iopub.status.idle": "2025-07-17T20:36:52.954913Z",
     "shell.execute_reply": "2025-07-17T20:36:52.953548Z"
    },
    "papermill": {
     "duration": 0.120389,
     "end_time": "2025-07-17T20:36:52.956629",
     "exception": false,
     "start_time": "2025-07-17T20:36:52.836240",
     "status": "completed"
    },
    "tags": []
   },
   "outputs": [
    {
     "name": "stdout",
     "output_type": "stream",
     "text": [
      "name='Biparnak' age=25 city='Hyderabad'\n"
     ]
    }
   ],
   "source": [
    "class Person(BaseModel):\n",
    "    name:str\n",
    "    age:int\n",
    "    city:str\n",
    "\n",
    "person = Person(name=\"Biparnak\", age=25, city=\"Hyderabad\")\n",
    "print(person)"
   ]
  },
  {
   "cell_type": "markdown",
   "id": "20e0019a",
   "metadata": {
    "papermill": {
     "duration": 0.004183,
     "end_time": "2025-07-17T20:36:52.965376",
     "exception": false,
     "start_time": "2025-07-17T20:36:52.961193",
     "status": "completed"
    },
    "tags": []
   },
   "source": [
    "If the we declear the city as an int it will give an error as pydantic does data validation"
   ]
  },
  {
   "cell_type": "code",
   "execution_count": 4,
   "id": "4918217a",
   "metadata": {
    "execution": {
     "iopub.execute_input": "2025-07-17T20:36:52.977053Z",
     "iopub.status.busy": "2025-07-17T20:36:52.976661Z",
     "iopub.status.idle": "2025-07-17T20:36:52.984744Z",
     "shell.execute_reply": "2025-07-17T20:36:52.983682Z"
    },
    "papermill": {
     "duration": 0.015481,
     "end_time": "2025-07-17T20:36:52.986257",
     "exception": false,
     "start_time": "2025-07-17T20:36:52.970776",
     "status": "completed"
    },
    "tags": []
   },
   "outputs": [
    {
     "name": "stdout",
     "output_type": "stream",
     "text": [
      "Validation failed:\n",
      "[\n",
      "  {\n",
      "    \"type\": \"string_type\",\n",
      "    \"loc\": [\n",
      "      \"city\"\n",
      "    ],\n",
      "    \"msg\": \"Input should be a valid string\",\n",
      "    \"input\": 1,\n",
      "    \"url\": \"https://errors.pydantic.dev/2.11/v/string_type\"\n",
      "  }\n",
      "]\n"
     ]
    }
   ],
   "source": [
    "try:\n",
    "    person = Person(name=\"Biparnak\", age=25, city=1)\n",
    "except ValidationError as e:\n",
    "    print(\"Validation failed:\")\n",
    "    print(e.json(indent=2))"
   ]
  },
  {
   "cell_type": "markdown",
   "id": "4e115243",
   "metadata": {
    "papermill": {
     "duration": 0.005052,
     "end_time": "2025-07-17T20:36:52.996243",
     "exception": false,
     "start_time": "2025-07-17T20:36:52.991191",
     "status": "completed"
    },
    "tags": []
   },
   "source": [
    "### Making Models Using data class (Validation excluded)"
   ]
  },
  {
   "cell_type": "code",
   "execution_count": 5,
   "id": "07674812",
   "metadata": {
    "execution": {
     "iopub.execute_input": "2025-07-17T20:36:53.006376Z",
     "iopub.status.busy": "2025-07-17T20:36:53.006042Z",
     "iopub.status.idle": "2025-07-17T20:36:53.012897Z",
     "shell.execute_reply": "2025-07-17T20:36:53.011605Z"
    },
    "papermill": {
     "duration": 0.013844,
     "end_time": "2025-07-17T20:36:53.014489",
     "exception": false,
     "start_time": "2025-07-17T20:36:53.000645",
     "status": "completed"
    },
    "tags": []
   },
   "outputs": [
    {
     "name": "stdout",
     "output_type": "stream",
     "text": [
      "Person(name='Biparnak', age=25, city='Hyderabad')\n"
     ]
    }
   ],
   "source": [
    "from dataclasses import dataclass\n",
    "\n",
    "@dataclass\n",
    "class Person():\n",
    "    name:str\n",
    "    age:int\n",
    "    city:str\n",
    "\n",
    "person1 = Person(name=\"Biparnak\", age=25, city=\"Hyderabad\")\n",
    "print(person1)\n"
   ]
  },
  {
   "cell_type": "markdown",
   "id": "594921a2",
   "metadata": {
    "papermill": {
     "duration": 0.004691,
     "end_time": "2025-07-17T20:36:53.024386",
     "exception": false,
     "start_time": "2025-07-17T20:36:53.019695",
     "status": "completed"
    },
    "tags": []
   },
   "source": [
    "If we do the same with dataclass (non pydantic) no validation is there and the city is marked as an int which it should not"
   ]
  },
  {
   "cell_type": "code",
   "execution_count": 6,
   "id": "12e9b21d",
   "metadata": {
    "execution": {
     "iopub.execute_input": "2025-07-17T20:36:53.035140Z",
     "iopub.status.busy": "2025-07-17T20:36:53.034778Z",
     "iopub.status.idle": "2025-07-17T20:36:53.040432Z",
     "shell.execute_reply": "2025-07-17T20:36:53.039336Z"
    },
    "papermill": {
     "duration": 0.013077,
     "end_time": "2025-07-17T20:36:53.042304",
     "exception": false,
     "start_time": "2025-07-17T20:36:53.029227",
     "status": "completed"
    },
    "tags": []
   },
   "outputs": [
    {
     "name": "stdout",
     "output_type": "stream",
     "text": [
      "Person(name='Biparnak', age=25, city=1)\n"
     ]
    }
   ],
   "source": [
    "person1 = Person(name=\"Biparnak\", age=25, city=1)\n",
    "print(person1)"
   ]
  },
  {
   "cell_type": "markdown",
   "id": "399ff0fc",
   "metadata": {
    "papermill": {
     "duration": 0.004142,
     "end_time": "2025-07-17T20:36:53.051203",
     "exception": false,
     "start_time": "2025-07-17T20:36:53.047061",
     "status": "completed"
    },
    "tags": []
   },
   "source": [
    "### Model with Optional Fields\n",
    "\n",
    "Add optional fields using Python's Opitonal type\n",
    "\n",
    "\n",
    "\n",
    "Definition:\n",
    "\n",
    "- Optional[type]: Indicates the field can be None\n",
    "\n",
    "- Default value (= None or = True): Makes the field optional\n",
    "\n",
    "- Required fields must still be provided\n",
    "\n",
    "- Pydantic validates types even for optional fields when values are provided\n",
    "\n"
   ]
  },
  {
   "cell_type": "code",
   "execution_count": 7,
   "id": "543c63b9",
   "metadata": {
    "execution": {
     "iopub.execute_input": "2025-07-17T20:36:53.062074Z",
     "iopub.status.busy": "2025-07-17T20:36:53.061092Z",
     "iopub.status.idle": "2025-07-17T20:36:53.070000Z",
     "shell.execute_reply": "2025-07-17T20:36:53.068889Z"
    },
    "papermill": {
     "duration": 0.016321,
     "end_time": "2025-07-17T20:36:53.071909",
     "exception": false,
     "start_time": "2025-07-17T20:36:53.055588",
     "status": "completed"
    },
    "tags": []
   },
   "outputs": [],
   "source": [
    "from typing import Optional\n",
    "\n",
    "class Employee(BaseModel):\n",
    "    id: int\n",
    "    name : str\n",
    "    department : str\n",
    "    salary:  Optional[float] = None #optional with default value as nonw\n",
    "    is_active: Optional[bool] = True #Optional with default value as True"
   ]
  },
  {
   "cell_type": "code",
   "execution_count": 8,
   "id": "cd0d697f",
   "metadata": {
    "execution": {
     "iopub.execute_input": "2025-07-17T20:36:53.083050Z",
     "iopub.status.busy": "2025-07-17T20:36:53.082666Z",
     "iopub.status.idle": "2025-07-17T20:36:53.089153Z",
     "shell.execute_reply": "2025-07-17T20:36:53.088069Z"
    },
    "papermill": {
     "duration": 0.013964,
     "end_time": "2025-07-17T20:36:53.091114",
     "exception": false,
     "start_time": "2025-07-17T20:36:53.077150",
     "status": "completed"
    },
    "tags": []
   },
   "outputs": [
    {
     "name": "stdout",
     "output_type": "stream",
     "text": [
      "id=1 name='John' department='SDE' salary=None is_active=True\n",
      "id=2 name='Jane' department='HR' salary=6000.0 is_active=False\n",
      "id=2 name='Jane' department='HR' salary=6000.0 is_active=False\n"
     ]
    }
   ],
   "source": [
    "# Examples with and without optional fields\n",
    "\n",
    "emp1 = Employee(id=1,name=\"John\", department=\"SDE\")\n",
    "print(emp1)\n",
    "\n",
    "\n",
    "emp2 = Employee(id=2,name=\"Jane\", department=\"HR\", salary=6000.0, is_active=False)\n",
    "print(emp2)\n",
    "\n",
    "#Auto Type Casting\n",
    "emp3 = Employee(id=3,name=\"Joey\", department=\"HR\", salary=4000, is_active=False)\n",
    "print(emp2)"
   ]
  },
  {
   "cell_type": "markdown",
   "id": "d15c2782",
   "metadata": {
    "papermill": {
     "duration": 0.004369,
     "end_time": "2025-07-17T20:36:53.100947",
     "exception": false,
     "start_time": "2025-07-17T20:36:53.096578",
     "status": "completed"
    },
    "tags": []
   },
   "source": [
    "### Making Models With List as Field"
   ]
  },
  {
   "cell_type": "code",
   "execution_count": 9,
   "id": "fe92a5f6",
   "metadata": {
    "execution": {
     "iopub.execute_input": "2025-07-17T20:36:53.111258Z",
     "iopub.status.busy": "2025-07-17T20:36:53.110937Z",
     "iopub.status.idle": "2025-07-17T20:36:53.117113Z",
     "shell.execute_reply": "2025-07-17T20:36:53.116124Z"
    },
    "papermill": {
     "duration": 0.013444,
     "end_time": "2025-07-17T20:36:53.118901",
     "exception": false,
     "start_time": "2025-07-17T20:36:53.105457",
     "status": "completed"
    },
    "tags": []
   },
   "outputs": [],
   "source": [
    "from pydantic import BaseModel\n",
    "from typing import List\n",
    "\n",
    "class Classroom(BaseModel):\n",
    "    room_number : str\n",
    "    students : List[str]  #list of strings\n",
    "    capacity: int"
   ]
  },
  {
   "cell_type": "code",
   "execution_count": 10,
   "id": "e3c35684",
   "metadata": {
    "execution": {
     "iopub.execute_input": "2025-07-17T20:36:53.130708Z",
     "iopub.status.busy": "2025-07-17T20:36:53.130382Z",
     "iopub.status.idle": "2025-07-17T20:36:53.136072Z",
     "shell.execute_reply": "2025-07-17T20:36:53.135103Z"
    },
    "papermill": {
     "duration": 0.013591,
     "end_time": "2025-07-17T20:36:53.137670",
     "exception": false,
     "start_time": "2025-07-17T20:36:53.124079",
     "status": "completed"
    },
    "tags": []
   },
   "outputs": [
    {
     "name": "stdout",
     "output_type": "stream",
     "text": [
      "room_number='A101' students=['Biparnak', 'Bob', 'Charlie'] capacity=30\n"
     ]
    }
   ],
   "source": [
    "#create class room\n",
    "classroom = Classroom(\n",
    "    room_number = \"A101\",\n",
    "    students=[\"Biparnak\",\"Bob\",\"Charlie\"],\n",
    "    capacity=30\n",
    ")\n",
    "print(classroom)"
   ]
  },
  {
   "cell_type": "code",
   "execution_count": 11,
   "id": "f623f720",
   "metadata": {
    "execution": {
     "iopub.execute_input": "2025-07-17T20:36:53.148762Z",
     "iopub.status.busy": "2025-07-17T20:36:53.148149Z",
     "iopub.status.idle": "2025-07-17T20:36:53.153307Z",
     "shell.execute_reply": "2025-07-17T20:36:53.152271Z"
    },
    "papermill": {
     "duration": 0.0125,
     "end_time": "2025-07-17T20:36:53.154969",
     "exception": false,
     "start_time": "2025-07-17T20:36:53.142469",
     "status": "completed"
    },
    "tags": []
   },
   "outputs": [
    {
     "name": "stdout",
     "output_type": "stream",
     "text": [
      "room_number='A101' students=['Biparnak', 'Bob', 'Charlie'] capacity=30\n"
     ]
    }
   ],
   "source": [
    "#type Casting of tuple to List (Dicts won't work)\n",
    "classroom_1 = Classroom(\n",
    "    room_number = \"A101\",\n",
    "    students=(\"Biparnak\",\"Bob\",\"Charlie\"),\n",
    "    capacity=30\n",
    ")\n",
    "print(classroom_1)"
   ]
  },
  {
   "cell_type": "markdown",
   "id": "e3830b9d",
   "metadata": {
    "papermill": {
     "duration": 0.004484,
     "end_time": "2025-07-17T20:36:53.165048",
     "exception": false,
     "start_time": "2025-07-17T20:36:53.160564",
     "status": "completed"
    },
    "tags": []
   },
   "source": [
    "### Error Handling  Using Try Catch"
   ]
  },
  {
   "cell_type": "code",
   "execution_count": 12,
   "id": "06875ace",
   "metadata": {
    "execution": {
     "iopub.execute_input": "2025-07-17T20:36:53.175674Z",
     "iopub.status.busy": "2025-07-17T20:36:53.175362Z",
     "iopub.status.idle": "2025-07-17T20:36:53.181776Z",
     "shell.execute_reply": "2025-07-17T20:36:53.180437Z"
    },
    "papermill": {
     "duration": 0.013832,
     "end_time": "2025-07-17T20:36:53.183546",
     "exception": false,
     "start_time": "2025-07-17T20:36:53.169714",
     "status": "completed"
    },
    "tags": []
   },
   "outputs": [
    {
     "name": "stdout",
     "output_type": "stream",
     "text": [
      "1 validation error for Classroom\n",
      "students.1\n",
      "  Input should be a valid string [type=string_type, input_value=123, input_type=int]\n",
      "    For further information visit https://errors.pydantic.dev/2.11/v/string_type\n"
     ]
    }
   ],
   "source": [
    "try:\n",
    "    invalid_val = Classroom(room_number=\"A1\", students=[\"Biparnak\",123], capacity=30)\n",
    "except ValueError as e:\n",
    "    print(e)"
   ]
  },
  {
   "cell_type": "markdown",
   "id": "26af2e1a",
   "metadata": {
    "papermill": {
     "duration": 0.005043,
     "end_time": "2025-07-17T20:36:53.194025",
     "exception": false,
     "start_time": "2025-07-17T20:36:53.188982",
     "status": "completed"
    },
    "tags": []
   },
   "source": [
    "### Model with Nested Models"
   ]
  },
  {
   "cell_type": "code",
   "execution_count": 13,
   "id": "6f80dcb9",
   "metadata": {
    "execution": {
     "iopub.execute_input": "2025-07-17T20:36:53.205526Z",
     "iopub.status.busy": "2025-07-17T20:36:53.205210Z",
     "iopub.status.idle": "2025-07-17T20:36:53.214388Z",
     "shell.execute_reply": "2025-07-17T20:36:53.213144Z"
    },
    "papermill": {
     "duration": 0.016648,
     "end_time": "2025-07-17T20:36:53.216108",
     "exception": false,
     "start_time": "2025-07-17T20:36:53.199460",
     "status": "completed"
    },
    "tags": []
   },
   "outputs": [
    {
     "name": "stdout",
     "output_type": "stream",
     "text": [
      "customer_id=1 name='Emma' address=Address(street='123 Main St', city='Boston', zip_code=2108)\n"
     ]
    }
   ],
   "source": [
    "from pydantic import BaseModel\n",
    "\n",
    "class Address(BaseModel):\n",
    "    street: str\n",
    "    city: str\n",
    "    zip_code: int\n",
    "\n",
    "class Customer(BaseModel):\n",
    "    customer_id: int\n",
    "    name: str\n",
    "    address: Address  # Nested model\n",
    "\n",
    "# Create a customer with nested address\n",
    "customer = Customer(\n",
    "    customer_id=1,\n",
    "    name=\"Emma\",\n",
    "    address={\"street\": \"123 Main St\", \"city\": \"Boston\", \"zip_code\": \"02108\"}\n",
    ")\n",
    "print(customer)"
   ]
  },
  {
   "cell_type": "markdown",
   "id": "52bfc67b",
   "metadata": {
    "papermill": {
     "duration": 0.005101,
     "end_time": "2025-07-17T20:36:53.226119",
     "exception": false,
     "start_time": "2025-07-17T20:36:53.221018",
     "status": "completed"
    },
    "tags": []
   },
   "source": [
    "### Pydantic Fields: Customization and Constraints\n",
    "\n",
    "The Field function in Pydantic enhances model fields beyond basic type hints by allowing you to specify validation rules, default values, aliases, and more. Here's a comprehensive tutorial with examples.\n"
   ]
  },
  {
   "cell_type": "code",
   "execution_count": 14,
   "id": "c1a40ff4",
   "metadata": {
    "execution": {
     "iopub.execute_input": "2025-07-17T20:36:53.238156Z",
     "iopub.status.busy": "2025-07-17T20:36:53.237813Z",
     "iopub.status.idle": "2025-07-17T20:36:53.246869Z",
     "shell.execute_reply": "2025-07-17T20:36:53.245390Z"
    },
    "papermill": {
     "duration": 0.017539,
     "end_time": "2025-07-17T20:36:53.248600",
     "exception": false,
     "start_time": "2025-07-17T20:36:53.231061",
     "status": "completed"
    },
    "tags": []
   },
   "outputs": [
    {
     "name": "stdout",
     "output_type": "stream",
     "text": [
      "name='Book' price=10.0 quantity=10\n"
     ]
    }
   ],
   "source": [
    "from pydantic import BaseModel,Field\n",
    "class Item(BaseModel):\n",
    "    name:str=Field(min_length=2,max_length=50)\n",
    "    price:float= Field(gt=0,le=1000) #greater than 0, less than or equal to 1000\n",
    "    quantity:int=Field(ge=0)\n",
    "\n",
    "# Valid instance\n",
    "item = Item(name=\"Book\", price=10, quantity=10)\n",
    "\n",
    "print(item)"
   ]
  },
  {
   "cell_type": "code",
   "execution_count": 15,
   "id": "848a7a82",
   "metadata": {
    "execution": {
     "iopub.execute_input": "2025-07-17T20:36:53.259808Z",
     "iopub.status.busy": "2025-07-17T20:36:53.259327Z",
     "iopub.status.idle": "2025-07-17T20:36:53.266999Z",
     "shell.execute_reply": "2025-07-17T20:36:53.266040Z"
    },
    "papermill": {
     "duration": 0.015213,
     "end_time": "2025-07-17T20:36:53.268810",
     "exception": false,
     "start_time": "2025-07-17T20:36:53.253597",
     "status": "completed"
    },
    "tags": []
   },
   "outputs": [
    {
     "name": "stdout",
     "output_type": "stream",
     "text": [
      "username='alice' age=18 email='user@example.com'\n",
      "username='bob' age=25 email='bob@domain.com'\n"
     ]
    }
   ],
   "source": [
    "from pydantic import BaseModel, Field\n",
    "\n",
    "class User(BaseModel):\n",
    "    username: str = Field(..., description=\"Unique username for the user\")\n",
    "    age: int = Field(default=18, description=\"User age, defaults to 18\")\n",
    "    email: str = Field(default_factory=lambda: \"user@example.com\", description=\"Default email address\")\n",
    "\n",
    "# Examples\n",
    "user1 = User(username=\"alice\")\n",
    "print(user1)  # username='alice' age=18 email='user@example.com'\n",
    "\n",
    "user2 = User(username=\"bob\", age=25, email=\"bob@domain.com\")\n",
    "print(user2)  # username='bob' age=25 email='bob@domain.com'"
   ]
  },
  {
   "cell_type": "code",
   "execution_count": 16,
   "id": "f93b3f78",
   "metadata": {
    "execution": {
     "iopub.execute_input": "2025-07-17T20:36:53.280348Z",
     "iopub.status.busy": "2025-07-17T20:36:53.279980Z",
     "iopub.status.idle": "2025-07-17T20:36:53.299642Z",
     "shell.execute_reply": "2025-07-17T20:36:53.298335Z"
    },
    "papermill": {
     "duration": 0.027455,
     "end_time": "2025-07-17T20:36:53.301366",
     "exception": false,
     "start_time": "2025-07-17T20:36:53.273911",
     "status": "completed"
    },
    "tags": []
   },
   "outputs": [
    {
     "name": "stdout",
     "output_type": "stream",
     "text": [
      "{'properties': {'username': {'description': 'Unique username for the user', 'title': 'Username', 'type': 'string'}, 'age': {'default': 18, 'description': 'User age, defaults to 18', 'title': 'Age', 'type': 'integer'}, 'email': {'description': 'Default email address', 'title': 'Email', 'type': 'string'}}, 'required': ['username'], 'title': 'User', 'type': 'object'}\n"
     ]
    }
   ],
   "source": [
    "print(User.model_json_schema())"
   ]
  }
 ],
 "metadata": {
  "kaggle": {
   "accelerator": "none",
   "dataSources": [],
   "dockerImageVersionId": 31089,
   "isGpuEnabled": false,
   "isInternetEnabled": false,
   "language": "python",
   "sourceType": "notebook"
  },
  "kernelspec": {
   "display_name": "Python 3",
   "language": "python",
   "name": "python3"
  },
  "language_info": {
   "codemirror_mode": {
    "name": "ipython",
    "version": 3
   },
   "file_extension": ".py",
   "mimetype": "text/x-python",
   "name": "python",
   "nbconvert_exporter": "python",
   "pygments_lexer": "ipython3",
   "version": "3.11.13"
  },
  "papermill": {
   "default_parameters": {},
   "duration": 11.924539,
   "end_time": "2025-07-17T20:36:53.827833",
   "environment_variables": {},
   "exception": null,
   "input_path": "__notebook__.ipynb",
   "output_path": "__notebook__.ipynb",
   "parameters": {},
   "start_time": "2025-07-17T20:36:41.903294",
   "version": "2.6.0"
  }
 },
 "nbformat": 4,
 "nbformat_minor": 5
}
